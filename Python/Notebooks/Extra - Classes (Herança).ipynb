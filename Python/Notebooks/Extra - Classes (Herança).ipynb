{
 "cells": [
  {
   "cell_type": "code",
   "execution_count": 12,
   "metadata": {
    "collapsed": true
   },
   "outputs": [],
   "source": [
    "class Pessoa:\n",
    "    def __init__(self):\n",
    "        self.nome = input('Qual o seu nome?')\n",
    "        self.idade= input('Qual a sua idade?')\n",
    "        self.genero= input('Qual o seu gênero atual?')        \n",
    "    def mostra_nome(self):\n",
    "        print(self.nome)\n",
    "        "
   ]
  },
  {
   "cell_type": "code",
   "execution_count": 13,
   "metadata": {},
   "outputs": [
    {
     "name": "stdout",
     "output_type": "stream",
     "text": [
      "Qual o seu nome?\n",
      "Qual a sua idade?\n",
      "Qual o seu gênero atual?\n"
     ]
    }
   ],
   "source": [
    "fulano = Pessoa()"
   ]
  },
  {
   "cell_type": "code",
   "execution_count": 14,
   "metadata": {},
   "outputs": [
    {
     "data": {
      "text/plain": [
       "''"
      ]
     },
     "execution_count": 14,
     "metadata": {},
     "output_type": "execute_result"
    }
   ],
   "source": [
    "fulano.genero"
   ]
  },
  {
   "cell_type": "code",
   "execution_count": 15,
   "metadata": {},
   "outputs": [
    {
     "data": {
      "text/plain": [
       "''"
      ]
     },
     "execution_count": 15,
     "metadata": {},
     "output_type": "execute_result"
    }
   ],
   "source": [
    "fulano.idade"
   ]
  },
  {
   "cell_type": "code",
   "execution_count": 6,
   "metadata": {
    "collapsed": true
   },
   "outputs": [],
   "source": [
    "class Aluno:\n",
    "    def __init__(self):\n",
    "        self.nome = input('Qual o seu nome?')\n",
    "        self.idade= input('Qual a sua idade?')\n",
    "        self.genero= input('Qual o seu gênero atual?')  \n",
    "        self.matricula = input('Qual a sua matricula?')\n",
    "        self.curso = input('Qual o seu curso?')\n",
    "\n"
   ]
  },
  {
   "cell_type": "code",
   "execution_count": 7,
   "metadata": {},
   "outputs": [
    {
     "name": "stdout",
     "output_type": "stream",
     "text": [
      "Qual o seu nome?Beltrano da Silva\n",
      "Qual a sua idade?34\n",
      "Qual o seu gênero atual?Masculino\n",
      "Qual a sua matricula?123123\n",
      "Qual o seu curso?Matemática\n"
     ]
    }
   ],
   "source": [
    "beltrano = Aluno()"
   ]
  },
  {
   "cell_type": "code",
   "execution_count": 8,
   "metadata": {
    "collapsed": true
   },
   "outputs": [],
   "source": [
    "class Aluno(Pessoa): # Vai herdar os atributos da classe Pessoa\n",
    "    pass\n"
   ]
  },
  {
   "cell_type": "code",
   "execution_count": 17,
   "metadata": {},
   "outputs": [
    {
     "name": "stdout",
     "output_type": "stream",
     "text": [
      "Qual o seu nome?ee\n",
      "Qual a sua idade?34\n",
      "Qual o seu gênero atual?m\n",
      "Qual a sua matricula?1223\n",
      "Qual o seu curso?Emap\n"
     ]
    }
   ],
   "source": [
    "sicrano=Aluno()"
   ]
  },
  {
   "cell_type": "code",
   "execution_count": 19,
   "metadata": {
    "collapsed": true
   },
   "outputs": [],
   "source": [
    "class Aluno(Pessoa):\n",
    "    def __init__(self):\n",
    "        Pessoa.__init__(self) #Se não tiver esse comando, os novos atributos vão sobrescrever os que foram herdados da classe Pessoa.\n",
    "        self.matricula = input('Qual a sua matricula?')\n",
    "        self.curso = input('Qual o seu curso?')\n",
    "    \n",
    "    def mostra_curso(self):\n",
    "        print(self.curso)"
   ]
  },
  {
   "cell_type": "code",
   "execution_count": 20,
   "metadata": {},
   "outputs": [
    {
     "name": "stdout",
     "output_type": "stream",
     "text": [
      "Qual o seu nome?Antonio\n",
      "Qual a sua idade?23\n",
      "Qual o seu gênero atual?M\n",
      "Qual a sua matricula?12231\n",
      "Qual o seu curso?Emap\n"
     ]
    }
   ],
   "source": [
    "Antonio = Aluno()"
   ]
  },
  {
   "cell_type": "code",
   "execution_count": 18,
   "metadata": {},
   "outputs": [
    {
     "name": "stdout",
     "output_type": "stream",
     "text": [
      "ee\n"
     ]
    }
   ],
   "source": [
    "sicrano.mostra_nome()"
   ]
  },
  {
   "cell_type": "markdown",
   "metadata": {},
   "source": [
    "## Dupla Herança"
   ]
  },
  {
   "cell_type": "code",
   "execution_count": 26,
   "metadata": {
    "collapsed": true
   },
   "outputs": [],
   "source": [
    "class Pizza:\n",
    "    def __init__(self):\n",
    "        self.espessura_massa = input('Fina ou Pan?')\n",
    "        self.tamanho = input('P, M, G ou GG?')\n",
    "    \n",
    "    def mostra_tamanho(self):\n",
    "        print(self.tamanho)\n",
    "        "
   ]
  },
  {
   "cell_type": "code",
   "execution_count": 29,
   "metadata": {
    "collapsed": true
   },
   "outputs": [],
   "source": [
    "class PizzaHut(Pizza):\n",
    "    def __init__(self):\n",
    "        Pizza.__init__(self)\n",
    "        self.borda = input('Recheada ou não recheada?')\n",
    "    \n",
    "    def mostra_borda(self):\n",
    "        print(self.borda)\n",
    "        \n",
    "    def mostra_tipo(self):\n",
    "        print(\"Pizza Hut\")\n",
    "        "
   ]
  },
  {
   "cell_type": "code",
   "execution_count": 31,
   "metadata": {
    "collapsed": true
   },
   "outputs": [],
   "source": [
    "class PizzaItaliana(Pizza):\n",
    "    def __init__(self):\n",
    "        Pizza.__init__(self)\n",
    "        self.formato = input('Qual o formato?')\n",
    "    \n",
    "    def mostra_formato(self):\n",
    "        print(self.formato)\n",
    "    \n",
    "    def mostra_tipo(self):\n",
    "        print(\"Italiana\")"
   ]
  },
  {
   "cell_type": "code",
   "execution_count": 34,
   "metadata": {
    "collapsed": true
   },
   "outputs": [],
   "source": [
    "class PizzaHutItaliana(PizzaHut, PizzaItaliana):\n",
    "    def __init__(self):\n",
    "        PizzaHut.__init__(self) # tivemos que escolher apenas uma classe para o init (se não, ele perguntaria duas vezes)\n",
    "        self.formato = input('Qual o formato?')"
   ]
  },
  {
   "cell_type": "code",
   "execution_count": 36,
   "metadata": {
    "scrolled": true
   },
   "outputs": [
    {
     "name": "stdout",
     "output_type": "stream",
     "text": [
      "Fina ou Pan?Fina\n",
      "P, M, G ou GG?G\n",
      "Recheada ou não recheada?Recheada\n",
      "Qual o formato?Redonda\n"
     ]
    }
   ],
   "source": [
    "minhapizza=PizzaHutItaliana()"
   ]
  },
  {
   "cell_type": "code",
   "execution_count": 37,
   "metadata": {},
   "outputs": [
    {
     "name": "stdout",
     "output_type": "stream",
     "text": [
      "Pizza Hut\n"
     ]
    }
   ],
   "source": [
    "minhapizza.mostra_tipo()"
   ]
  },
  {
   "cell_type": "code",
   "execution_count": 39,
   "metadata": {
    "collapsed": true
   },
   "outputs": [],
   "source": [
    "class MinhaLista(list):\n",
    "    def pop_no_inicio(self):\n",
    "        x=self[0]\n",
    "        self = self[1:]\n",
    "        return(x)"
   ]
  },
  {
   "cell_type": "code",
   "execution_count": null,
   "metadata": {
    "collapsed": true
   },
   "outputs": [],
   "source": [
    "# Extendi a classe 'List' do python para adicionar uma nova "
   ]
  }
 ],
 "metadata": {
  "kernelspec": {
   "display_name": "Python 3",
   "language": "python",
   "name": "python3"
  },
  "language_info": {
   "codemirror_mode": {
    "name": "ipython",
    "version": 3
   },
   "file_extension": ".py",
   "mimetype": "text/x-python",
   "name": "python",
   "nbconvert_exporter": "python",
   "pygments_lexer": "ipython3",
   "version": "3.6.3"
  }
 },
 "nbformat": 4,
 "nbformat_minor": 2
}
