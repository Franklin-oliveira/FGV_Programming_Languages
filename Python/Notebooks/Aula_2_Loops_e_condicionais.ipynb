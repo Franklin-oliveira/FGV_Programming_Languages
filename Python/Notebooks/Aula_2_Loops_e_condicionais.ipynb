{
 "cells": [
  {
   "cell_type": "markdown",
   "metadata": {},
   "source": [
    "FGV - Escola de Matemática Aplicada\n",
    "==\n",
    "Curso de Verão - Introdução à Programação com a Linguagem Python\n",
    "--"
   ]
  },
  {
   "cell_type": "markdown",
   "metadata": {},
   "source": [
    "Breve informação: podemos inserir $\\LaTeX$ no markdown"
   ]
  },
  {
   "cell_type": "code",
   "execution_count": 1,
   "metadata": {
    "collapsed": true
   },
   "outputs": [],
   "source": [
    "import time\n",
    "import random"
   ]
  },
  {
   "cell_type": "markdown",
   "metadata": {},
   "source": [
    "## Condicionais e Loops"
   ]
  },
  {
   "cell_type": "markdown",
   "metadata": {},
   "source": [
    "### Condicionais:\n",
    "\n",
    "Em Python usamos os Controles de Fluxo if/elif/else para avaliar as condições que são postas na estrutura do código. As condições são sequencias que devem ser avaliadas em True ou False e uma estrutura condicional simples pode conter vários elif, mas somente um else."
   ]
  },
  {
   "cell_type": "markdown",
   "metadata": {},
   "source": [
    "###### Modelo da sintaxe:\n",
    "\n",
    "###### if condição1:\n",
    "\n",
    "   código a ser implementado caso a condição 1 seja verdadeira.\n",
    "    \n",
    "###### elif condição2:\n",
    "\n",
    "   código a ser implementado caso a condição 1 seja falsa e a condição 2 seja verdadeira.\n",
    "    \n",
    "###### elif condição3:\n",
    "\n",
    "   código a ser implementado caso as condições 1 e 2 sejam falsas e a condição 3 seja verdadeira.\n",
    "    \n",
    "###### else:\n",
    "\n",
    "   código a ser implementado caso nenhuma das condições acima sejam verdadeiras\n"
   ]
  },
  {
   "cell_type": "code",
   "execution_count": 5,
   "metadata": {},
   "outputs": [
    {
     "name": "stdout",
     "output_type": "stream",
     "text": [
      "o nome começa com T\n",
      "Estou aqui\n",
      "Saí do if\n"
     ]
    }
   ],
   "source": [
    "nome = 'Tuani'  # OBS: Só pode haver um else - cadeia de prioridades (executa quando a primeira condição verdadeira aparecer)\n",
    "\n",
    "if nome.startswith('T'):\n",
    "    print('o nome começa com {}'.format(nome[0]))\n",
    "    print('Estou aqui')\n",
    "elif nome.startswith('U'):\n",
    "    print('o nome começa com {0} e termina com {1}'.format(nome[0],nome[-1]))\n",
    "elif nome.startswith('V'):\n",
    "    print('o nome começa com {}'.format(nome[0]))\n",
    "elif nome.startswith('U'):  # ignorou essa condição porque a anterior já foi executada\n",
    "    print('o nome começa com {}'.format(nome[0]))\n",
    "elif nome.startswith('Z'):\n",
    "    print('o nome começa com {}'.format(nome[0]))\n",
    "else:\n",
    "    print('o nome não começa com T,U,V, X ou Z')\n",
    "    \n",
    "    \n",
    "print('Saí do if')"
   ]
  },
  {
   "cell_type": "markdown",
   "metadata": {},
   "source": [
    "Podemos usar, também, condicionais aninhadas. Isto é, dentro do código a ser rodado caso alguma condição seja verdadeira podemos colocar outra estrutura if/elif/else. Vejamos no exemplo a seguir:"
   ]
  },
  {
   "cell_type": "code",
   "execution_count": 6,
   "metadata": {},
   "outputs": [
    {
     "name": "stdout",
     "output_type": "stream",
     "text": [
      "o numero é menor ou igual a 5\n"
     ]
    }
   ],
   "source": [
    "numero = 4   # Note que o segundo e o terceiro if foram ignorados porque estão aninhados (o primeiro já é falso, então ele encerra o processo)\n",
    "if numero > 5:\n",
    "    print('maior que 5')\n",
    "    if numero > 7:\n",
    "        print('maior que 7')\n",
    "        if numero > 3:   # Pode selecionar e apertar TAB (Shift TAB) para deslocar o escopo da função\n",
    "            print('maior que 3')\n",
    "else:\n",
    "    print('o numero é menor ou igual a 5')"
   ]
  },
  {
   "cell_type": "code",
   "execution_count": 7,
   "metadata": {},
   "outputs": [
    {
     "name": "stdout",
     "output_type": "stream",
     "text": [
      "3 Buzz\n",
      "5 Fizz\n",
      "6 Buzz\n",
      "9 Buzz\n",
      "10 Fizz\n",
      "12 Buzz\n",
      "15 FizzBuzz\n",
      "18 Buzz\n",
      "20 Fizz\n",
      "21 Buzz\n",
      "24 Buzz\n",
      "25 Fizz\n",
      "27 Buzz\n",
      "30 FizzBuzz\n",
      "33 Buzz\n",
      "35 Fizz\n",
      "36 Buzz\n",
      "39 Buzz\n",
      "40 Fizz\n",
      "42 Buzz\n",
      "45 FizzBuzz\n",
      "48 Buzz\n",
      "50 Fizz\n",
      "51 Buzz\n",
      "54 Buzz\n",
      "55 Fizz\n",
      "57 Buzz\n",
      "60 FizzBuzz\n",
      "63 Buzz\n",
      "65 Fizz\n",
      "66 Buzz\n",
      "69 Buzz\n",
      "70 Fizz\n",
      "72 Buzz\n",
      "75 FizzBuzz\n",
      "78 Buzz\n",
      "80 Fizz\n",
      "81 Buzz\n",
      "84 Buzz\n",
      "85 Fizz\n",
      "87 Buzz\n",
      "90 FizzBuzz\n",
      "93 Buzz\n",
      "95 Fizz\n",
      "96 Buzz\n",
      "99 Buzz\n",
      "100 Fizz\n"
     ]
    }
   ],
   "source": [
    "for numero in range(1,101): #Loop: Vai testar cada número no intervalo\n",
    "    if numero%3==0 and numero%5==0:\n",
    "        print(numero,'FizzBuzz')\n",
    "    elif numero%3==0:\n",
    "        print(numero, 'Buzz')\n",
    "    elif numero%5==0:\n",
    "        print(numero, 'Fizz')\n",
    "    #else:\n",
    "       # print(numero,'Não é divisível por 3 ou por 5')\n",
    "        "
   ]
  },
  {
   "cell_type": "markdown",
   "metadata": {},
   "source": [
    "### Range:\n",
    "\n",
    "Range representa uma sequência imutável de números e é usado para fazer um número específico de loop nos loops. "
   ]
  },
  {
   "cell_type": "code",
   "execution_count": 39,
   "metadata": {},
   "outputs": [
    {
     "data": {
      "text/plain": [
       "[0, 1, 2, 3, 4, 5, 6, 7, 8, 9]"
      ]
     },
     "execution_count": 39,
     "metadata": {},
     "output_type": "execute_result"
    }
   ],
   "source": [
    "list(range(10))  # Range: função geradora de sequências (início, fim, \"passo\")"
   ]
  },
  {
   "cell_type": "markdown",
   "metadata": {},
   "source": [
    "O resultado gerado é uma lista que vai de 0 até o número dado como argumento - 1."
   ]
  },
  {
   "cell_type": "code",
   "execution_count": 40,
   "metadata": {},
   "outputs": [
    {
     "data": {
      "text/plain": [
       "[1, 2, 3, 4, 5, 6, 7, 8, 9, 10, 11, 12]"
      ]
     },
     "execution_count": 40,
     "metadata": {},
     "output_type": "execute_result"
    }
   ],
   "source": [
    "list(range(1,13)) "
   ]
  },
  {
   "cell_type": "code",
   "execution_count": 41,
   "metadata": {},
   "outputs": [
    {
     "data": {
      "text/plain": [
       "[0, 2, 4, 6, 8, 10]"
      ]
     },
     "execution_count": 41,
     "metadata": {},
     "output_type": "execute_result"
    }
   ],
   "source": [
    "list(range(0,11,2)) # Gerou-se uma sequência com uma razão (passo) diferente"
   ]
  },
  {
   "cell_type": "markdown",
   "metadata": {},
   "source": [
    "Nesse caso temos o intervalo definido. Dessa forma, o resultado gerado é uma lista que vai do primeiro número dado até o segundo - 1."
   ]
  },
  {
   "cell_type": "code",
   "execution_count": 44,
   "metadata": {
    "collapsed": true
   },
   "outputs": [],
   "source": [
    "gen50 = range(5,51,3) # Se não usar o comando para criar uma lista, o python vai criar um objeto do tipo range (sequência)"
   ]
  },
  {
   "cell_type": "code",
   "execution_count": 45,
   "metadata": {},
   "outputs": [
    {
     "data": {
      "text/plain": [
       "range(5, 51, 3)"
      ]
     },
     "execution_count": 45,
     "metadata": {},
     "output_type": "execute_result"
    }
   ],
   "source": [
    "gen50 # esse objeto tem a sequência embutida"
   ]
  },
  {
   "cell_type": "code",
   "execution_count": 47,
   "metadata": {},
   "outputs": [
    {
     "data": {
      "text/plain": [
       "[5, 8, 11, 14, 17, 20, 23, 26, 29, 32, 35, 38, 41, 44, 47, 50]"
      ]
     },
     "execution_count": 47,
     "metadata": {},
     "output_type": "execute_result"
    }
   ],
   "source": [
    "lista = list(gen50)  # 'abre' a sequência embutida no obtejo range em uma lista\n",
    "lista"
   ]
  },
  {
   "cell_type": "markdown",
   "metadata": {},
   "source": [
    "Já nesse caso temos a estrutura composta por range(início do intervalo, fim do intervalo + 1, diferença entre um elemento e o próximo na sequência). Dessa forma temos que os elementos, no exemplo, são listados, de três em três, de 5 até 50."
   ]
  },
  {
   "cell_type": "code",
   "execution_count": 49,
   "metadata": {},
   "outputs": [
    {
     "data": {
      "text/plain": [
       "range(0, 282429536481)"
      ]
     },
     "execution_count": 49,
     "metadata": {},
     "output_type": "execute_result"
    }
   ],
   "source": [
    "range(9**12)"
   ]
  },
  {
   "cell_type": "markdown",
   "metadata": {},
   "source": [
    "### Loops:"
   ]
  },
  {
   "cell_type": "markdown",
   "metadata": {},
   "source": [
    " #### O comando \"for\":\n",
    "\n",
    "Executa uma seqüência de instruções várias vezes, até que o intervalo dado termine."
   ]
  },
  {
   "cell_type": "code",
   "execution_count": 59,
   "metadata": {},
   "outputs": [
    {
     "name": "stdout",
     "output_type": "stream",
     "text": [
      "1\n",
      "\n",
      "mais\tuma\tcoisa\n",
      "\n",
      "3\n",
      "\n",
      "mais\tuma\tcoisa\n",
      "\n",
      "5\n",
      "\n",
      "mais\tuma\tcoisa\n",
      "\n",
      "6\n",
      "\n"
     ]
    }
   ],
   "source": [
    "for elemento_da_lista in [1,3,5,6,3,8,6,2,1,4]:\n",
    "    print(elemento_da_lista)\n",
    "    print()\n",
    "    if elemento_da_lista > 5:\n",
    "        break\n",
    "    print('mais\\tuma\\tcoisa\\n')"
   ]
  },
  {
   "cell_type": "code",
   "execution_count": 20,
   "metadata": {},
   "outputs": [
    {
     "name": "stdout",
     "output_type": "stream",
     "text": [
      "1\n",
      "3\n",
      "5\n",
      "7\n",
      "9\n",
      "acabou\n"
     ]
    }
   ],
   "source": [
    "for elemento_da_lista in range(100):\n",
    "    if elemento_da_lista%2==0:\n",
    "        continue # se a condição anterior for verdade, ele vai voltar para o começo da sentença (próximo número da sequência)\n",
    "    if elemento_da_lista==11:\n",
    "        break\n",
    "    print(elemento_da_lista)\n",
    "print('acabou')"
   ]
  },
  {
   "cell_type": "code",
   "execution_count": 58,
   "metadata": {},
   "outputs": [
    {
     "name": "stdout",
     "output_type": "stream",
     "text": [
      "primeiro 1\n",
      "segundo 1\n",
      "segundo 3\n",
      "saí\n",
      "primeiro 3\n",
      "segundo 1\n",
      "segundo 3\n",
      "saí\n",
      "primeiro 5\n",
      "segundo 1\n",
      "segundo 3\n",
      "saí\n",
      "primeiro 6\n",
      "segundo 1\n",
      "segundo 3\n",
      "saí\n",
      "primeiro 3\n",
      "segundo 1\n",
      "segundo 3\n",
      "saí\n",
      "primeiro 8\n",
      "segundo 1\n",
      "segundo 3\n",
      "saí\n",
      "primeiro 6\n",
      "segundo 1\n",
      "segundo 3\n",
      "saí\n",
      "primeiro 2\n",
      "segundo 1\n",
      "segundo 3\n",
      "saí\n",
      "primeiro 1\n",
      "segundo 1\n",
      "segundo 3\n",
      "saí\n",
      "primeiro 4\n",
      "segundo 1\n",
      "segundo 3\n",
      "saí\n"
     ]
    }
   ],
   "source": [
    "for elemento_da_lista in [1,3,5,6,3,8,6,2,1,4]:\n",
    "    print('primeiro', elemento_da_lista)\n",
    "    for outra_variavel in range(10):\n",
    "        if outra_variavel%2 ==0:\n",
    "            continue # sai da iteração atual do for e avança para a seguinte\n",
    "        print('segundo', outra_variavel)\n",
    "        if outra_variavel == 3:\n",
    "            break # sai do for\n",
    "    print('saí')"
   ]
  },
  {
   "cell_type": "code",
   "execution_count": 51,
   "metadata": {},
   "outputs": [
    {
     "name": "stdout",
     "output_type": "stream",
     "text": [
      "2\n",
      "Margaridas\n",
      "\n",
      "4\n",
      "Margaridas\n",
      "\n",
      "6\n",
      "Margaridas\n",
      "\n",
      "8\n",
      "Margaridas\n",
      "\n",
      "10\n",
      "Margaridas\n",
      "\n"
     ]
    }
   ],
   "source": [
    "for inteiro in range(2,11,2): # o for define uma variável para tomar valores iterativamente (nesse caso, com nome inteiro) - a variável assume todos os valores da sequência um a um\n",
    "    print(inteiro)  # for variável in sequência :\n",
    "    #print()\n",
    "    #print(inteiro + 1)\n",
    "    print('Margaridas')\n",
    "    print()         # O for executa todo o conjunto de operações para cada valor da sequência - obs: print vazio pula uma linha"
   ]
  },
  {
   "cell_type": "code",
   "execution_count": 20,
   "metadata": {},
   "outputs": [
    {
     "name": "stdout",
     "output_type": "stream",
     "text": [
      "1\n",
      "\n",
      "9\n",
      "\n",
      "25\n",
      "\n",
      "49\n",
      "\n",
      "81\n",
      "\n"
     ]
    }
   ],
   "source": [
    "for inteiro in range(1,10,2):\n",
    "    print(inteiro**2)\n",
    "    print()"
   ]
  },
  {
   "cell_type": "code",
   "execution_count": 26,
   "metadata": {},
   "outputs": [
    {
     "name": "stdout",
     "output_type": "stream",
     "text": [
      "M\n",
      "e\n",
      "u\n",
      " \n",
      "n\n",
      "o\n",
      "m\n",
      "e\n",
      " \n",
      "n\n",
      "ã\n",
      "o\n",
      " \n",
      "é\n",
      " \n",
      "J\n",
      "o\n",
      "h\n",
      "n\n",
      "n\n",
      "y\n"
     ]
    }
   ],
   "source": [
    "for letra in 'Meu nome não é Johnny':\n",
    "    #if letra =='n':\n",
    "        #pass\n",
    "        #break\n",
    "        #continue\n",
    "    print(letra)"
   ]
  },
  {
   "cell_type": "code",
   "execution_count": 33,
   "metadata": {},
   "outputs": [
    {
     "name": "stdout",
     "output_type": "stream",
     "text": [
      "1 1 1\n",
      "4 16 64\n",
      "8 64 512\n",
      "9 81 729\n",
      "10 100 1000\n"
     ]
    }
   ],
   "source": [
    "for elemento in [1,4,8,9,10]:\n",
    "    print(elemento, elemento**2, elemento**3)"
   ]
  },
  {
   "cell_type": "code",
   "execution_count": 35,
   "metadata": {
    "collapsed": true
   },
   "outputs": [],
   "source": [
    "x,y,z = (1,2,3) # Definindo mais de uma variável em uma linha"
   ]
  },
  {
   "cell_type": "code",
   "execution_count": 36,
   "metadata": {},
   "outputs": [
    {
     "data": {
      "text/plain": [
       "1"
      ]
     },
     "execution_count": 36,
     "metadata": {},
     "output_type": "execute_result"
    }
   ],
   "source": [
    "x"
   ]
  },
  {
   "cell_type": "code",
   "execution_count": 37,
   "metadata": {},
   "outputs": [
    {
     "data": {
      "text/plain": [
       "2"
      ]
     },
     "execution_count": 37,
     "metadata": {},
     "output_type": "execute_result"
    }
   ],
   "source": [
    "y"
   ]
  },
  {
   "cell_type": "code",
   "execution_count": 38,
   "metadata": {},
   "outputs": [
    {
     "data": {
      "text/plain": [
       "3"
      ]
     },
     "execution_count": 38,
     "metadata": {},
     "output_type": "execute_result"
    }
   ],
   "source": [
    "z"
   ]
  },
  {
   "cell_type": "code",
   "execution_count": 60,
   "metadata": {},
   "outputs": [
    {
     "name": "stdout",
     "output_type": "stream",
     "text": [
      "1\n",
      "4\n",
      "5\n"
     ]
    }
   ],
   "source": [
    "c = {1,4,4,4,4,5}\n",
    "for elemento in c:\n",
    "    print(elemento)"
   ]
  },
  {
   "cell_type": "code",
   "execution_count": 62,
   "metadata": {},
   "outputs": [
    {
     "name": "stdout",
     "output_type": "stream",
     "text": [
      "1 a\n",
      "2 b\n",
      "3 c\n",
      "4 d\n",
      "5 e\n"
     ]
    }
   ],
   "source": [
    "for a,b in zip([1,2,3,4,5],'abcde'): #zip: faz uma tupla associando os elementos correspondentes das sequências\n",
    "    print(a,b)"
   ]
  },
  {
   "cell_type": "markdown",
   "metadata": {},
   "source": [
    "### Instruções de comando de loop\n",
    "\n",
    "Elas alteram a execução da sequência em sua ordem normal. São elas: break, continue e pass."
   ]
  },
  {
   "cell_type": "markdown",
   "metadata": {},
   "source": [
    "##### Break: \n",
    "Termina a instrução do loop e transfere a execução do loop para a próxima instrução."
   ]
  },
  {
   "cell_type": "code",
   "execution_count": 45,
   "metadata": {},
   "outputs": [
    {
     "name": "stdout",
     "output_type": "stream",
     "text": [
      "Sum of first  10 integers is :  55\n"
     ]
    }
   ],
   "source": [
    "numbers = range(1,1000)\n",
    "num_sum = 0  \n",
    "count = 0  \n",
    "for x in numbers:  \n",
    "    num_sum = num_sum + x  \n",
    "    count = count + 1   \n",
    "    if count == 10:  \n",
    "        break  \n",
    "print(\"Sum of first \",count,\"integers is : \", num_sum)  "
   ]
  },
  {
   "cell_type": "markdown",
   "metadata": {},
   "source": [
    "#### Continue:\n",
    "Continua com a próxima iteração do loop.\n"
   ]
  },
  {
   "cell_type": "code",
   "execution_count": 46,
   "metadata": {},
   "outputs": [
    {
     "name": "stdout",
     "output_type": "stream",
     "text": [
      "a latitude é 1\n",
      "a longitude é 2\n",
      "a latitude é 7\n",
      "a longitude é 9\n"
     ]
    }
   ],
   "source": [
    "for x,y in [(1,2),(3,6),(7,9)]:\n",
    "    if x == 3:\n",
    "        continue\n",
    "    print('a latitude é {}'.format(x))\n",
    "    print('a longitude é {}'.format(y))"
   ]
  },
  {
   "cell_type": "code",
   "execution_count": 47,
   "metadata": {},
   "outputs": [
    {
     "name": "stdout",
     "output_type": "stream",
     "text": [
      "Found an even number 2\n",
      "Found an even number 4\n",
      "Found an even number 6\n",
      "Found an even number 8\n",
      "Found an even number 10\n"
     ]
    }
   ],
   "source": [
    "for num in range(2, 11):\n",
    "    if num % 2 == 0:\n",
    "        print(\"Found an even number\", num)\n",
    "    continue"
   ]
  },
  {
   "cell_type": "code",
   "execution_count": 32,
   "metadata": {},
   "outputs": [
    {
     "name": "stdout",
     "output_type": "stream",
     "text": [
      "0\n",
      "1\n",
      "2\n",
      "3\n",
      "4\n",
      "6\n",
      "8\n"
     ]
    }
   ],
   "source": [
    "for numero in range(10):\n",
    "    if numero in [5,7,9]:\n",
    "        continue\n",
    "    print(numero)"
   ]
  },
  {
   "cell_type": "markdown",
   "metadata": {},
   "source": [
    "#### Pass:\n",
    "Pode ser usado quando uma declaração é requerida sintaticamente, mas o programa não requer nenhuma ação."
   ]
  },
  {
   "cell_type": "code",
   "execution_count": 65,
   "metadata": {
    "collapsed": true
   },
   "outputs": [],
   "source": [
    "def funcao():\n",
    "    pass # Para ignorar a sentença aterior"
   ]
  },
  {
   "cell_type": "code",
   "execution_count": 66,
   "metadata": {
    "collapsed": true
   },
   "outputs": [],
   "source": [
    "def funcao1():\n",
    "    print('faz nada')\n",
    "\n",
    "def funcao2():\n",
    "    pass # Na prática, se usa 'pass' em lugares que serão preenchidos posteriormente\n",
    "\n",
    "def funcao3():\n",
    "    pass"
   ]
  },
  {
   "cell_type": "code",
   "execution_count": 67,
   "metadata": {},
   "outputs": [
    {
     "name": "stdout",
     "output_type": "stream",
     "text": [
      "Current Letter : P\n",
      "Current Letter : y\n",
      "Current Letter : t\n",
      "This is pass block\n",
      "Current Letter : h\n",
      "Current Letter : o\n",
      "Current Letter : n\n"
     ]
    }
   ],
   "source": [
    "for letter in 'Python': \n",
    "    if letter == 'h':\n",
    "        pass\n",
    "        print('This is pass block')\n",
    "    print('Current Letter :', letter)\n"
   ]
  },
  {
   "cell_type": "markdown",
   "metadata": {},
   "source": [
    "* Números ímpares divisíveis por 7 e 5 até 100"
   ]
  },
  {
   "cell_type": "code",
   "execution_count": 27,
   "metadata": {},
   "outputs": [
    {
     "ename": "NameError",
     "evalue": "name 'seq' is not defined",
     "output_type": "error",
     "traceback": [
      "\u001b[1;31m---------------------------------------------------------------------------\u001b[0m",
      "\u001b[1;31mNameError\u001b[0m                                 Traceback (most recent call last)",
      "\u001b[1;32m<ipython-input-27-44097f21410f>\u001b[0m in \u001b[0;36m<module>\u001b[1;34m()\u001b[0m\n\u001b[0;32m      1\u001b[0m \u001b[0mlista\u001b[0m \u001b[1;33m=\u001b[0m \u001b[1;33m[\u001b[0m\u001b[1;33m]\u001b[0m\u001b[1;33m\u001b[0m\u001b[0m\n\u001b[1;32m----> 2\u001b[1;33m \u001b[1;32mfor\u001b[0m \u001b[0mnumero\u001b[0m \u001b[1;32min\u001b[0m \u001b[0mseq\u001b[0m\u001b[1;33m:\u001b[0m\u001b[1;33m\u001b[0m\u001b[0m\n\u001b[0m\u001b[0;32m      3\u001b[0m     \u001b[1;32mif\u001b[0m \u001b[0mnumero\u001b[0m\u001b[1;33m%\u001b[0m\u001b[1;36m7\u001b[0m \u001b[1;33m==\u001b[0m \u001b[1;36m0\u001b[0m \u001b[1;32mand\u001b[0m \u001b[0mnumero\u001b[0m\u001b[1;33m%\u001b[0m\u001b[1;36m5\u001b[0m \u001b[1;33m==\u001b[0m \u001b[1;36m0\u001b[0m\u001b[1;33m:\u001b[0m \u001b[1;31m# and numero%2 != 0:\u001b[0m\u001b[1;33m\u001b[0m\u001b[0m\n\u001b[0;32m      4\u001b[0m         \u001b[0mlista\u001b[0m\u001b[1;33m.\u001b[0m\u001b[0mappend\u001b[0m\u001b[1;33m(\u001b[0m\u001b[0mnumero\u001b[0m\u001b[1;33m)\u001b[0m\u001b[1;33m\u001b[0m\u001b[0m\n\u001b[0;32m      5\u001b[0m \u001b[0mprint\u001b[0m\u001b[1;33m(\u001b[0m\u001b[0mlista\u001b[0m\u001b[1;33m)\u001b[0m\u001b[1;33m\u001b[0m\u001b[0m\n",
      "\u001b[1;31mNameError\u001b[0m: name 'seq' is not defined"
     ]
    }
   ],
   "source": [
    "lista = []\n",
    "for numero in seq:\n",
    "    if numero%7 == 0 and numero%5 == 0: # and numero%2 != 0:\n",
    "        lista.append(numero)\n",
    "print(lista)"
   ]
  },
  {
   "cell_type": "markdown",
   "metadata": {},
   "source": [
    "* Gerando números primos"
   ]
  },
  {
   "cell_type": "code",
   "execution_count": 74,
   "metadata": {
    "collapsed": true
   },
   "outputs": [],
   "source": [
    "import time"
   ]
  },
  {
   "cell_type": "code",
   "execution_count": 76,
   "metadata": {},
   "outputs": [
    {
     "data": {
      "text/plain": [
       "1515608043.2615411"
      ]
     },
     "execution_count": 76,
     "metadata": {},
     "output_type": "execute_result"
    }
   ],
   "source": [
    "time.time() # quantidade de segundos desde a criação do UNIX (precursor do Linux)"
   ]
  },
  {
   "cell_type": "code",
   "execution_count": 80,
   "metadata": {
    "collapsed": true
   },
   "outputs": [],
   "source": [
    "t0=time.time()"
   ]
  },
  {
   "cell_type": "code",
   "execution_count": 81,
   "metadata": {},
   "outputs": [
    {
     "data": {
      "text/plain": [
       "0.45709729194641113"
      ]
     },
     "execution_count": 81,
     "metadata": {},
     "output_type": "execute_result"
    }
   ],
   "source": [
    "time.time()-t0 # tempo gasto para a execução de um programa (tempo final - tempo inicial)"
   ]
  },
  {
   "cell_type": "code",
   "execution_count": 73,
   "metadata": {},
   "outputs": [
    {
     "name": "stdout",
     "output_type": "stream",
     "text": [
      "48.05961316273316\n"
     ]
    }
   ],
   "source": [
    "print(time.time()/(3600*24*365))"
   ]
  },
  {
   "cell_type": "code",
   "execution_count": 76,
   "metadata": {},
   "outputs": [
    {
     "name": "stdout",
     "output_type": "stream",
     "text": [
      "9.546455144882202\n"
     ]
    }
   ],
   "source": [
    "t0 = time.time()\n",
    "primos = []\n",
    "for i in range(2, 10000):\n",
    "    k = True\n",
    "    for j in range(2, i):\n",
    "        if i%j==0:\n",
    "            k = False\n",
    "    if k:\n",
    "        primos.append(i)\n",
    "#print(primos)\n",
    "print(time.time() - t0)"
   ]
  },
  {
   "cell_type": "code",
   "execution_count": 78,
   "metadata": {},
   "outputs": [
    {
     "name": "stdout",
     "output_type": "stream",
     "text": [
      "0.1551961898803711\n"
     ]
    }
   ],
   "source": [
    "t0 = time.time()\n",
    "seq = range(3,10000)\n",
    "primos = [2]\n",
    "for candidato in seq:\n",
    "    E_primo = True\n",
    "    for primo in primos:\n",
    "        if candidato%primo == 0:\n",
    "            E_primo = False\n",
    "            break\n",
    "    if E_primo:\n",
    "        primos.append(candidato)\n",
    "        #print(candidato)\n",
    "print(time.time() - t0)"
   ]
  },
  {
   "cell_type": "markdown",
   "metadata": {},
   "source": [
    "#### O comando \"while\":\n",
    "\n",
    "No comando WHILE declara-se uma condição de parada. Dessa maneira os comandos serão executados até que se chegue na condição de parada.\n"
   ]
  },
  {
   "cell_type": "code",
   "execution_count": 82,
   "metadata": {
    "scrolled": true
   },
   "outputs": [
    {
     "name": "stdout",
     "output_type": "stream",
     "text": [
      "1\n",
      "2\n",
      "3\n",
      "4\n",
      "5\n",
      "6\n",
      "7\n",
      "8\n",
      "9\n"
     ]
    }
   ],
   "source": [
    "x = 1\n",
    "while x < 10:  # Executa a função enquanto a condição inicial for verdadeira\n",
    "    print(x)\n",
    "    x =x + 1 # ou x+=1"
   ]
  },
  {
   "cell_type": "code",
   "execution_count": 83,
   "metadata": {
    "collapsed": true
   },
   "outputs": [],
   "source": [
    "import requests"
   ]
  },
  {
   "cell_type": "code",
   "execution_count": 85,
   "metadata": {},
   "outputs": [
    {
     "name": "stdout",
     "output_type": "stream",
     "text": [
      "<Response [200]>\n",
      "mudou\n"
     ]
    },
    {
     "ename": "KeyboardInterrupt",
     "evalue": "",
     "output_type": "error",
     "traceback": [
      "\u001b[1;31m---------------------------------------------------------------------------\u001b[0m",
      "\u001b[1;31mKeyboardInterrupt\u001b[0m                         Traceback (most recent call last)",
      "\u001b[1;32m<ipython-input-85-285da00657be>\u001b[0m in \u001b[0;36m<module>\u001b[1;34m()\u001b[0m\n\u001b[0;32m      6\u001b[0m         \u001b[0mprint\u001b[0m\u001b[1;33m(\u001b[0m\u001b[1;34m'mudou'\u001b[0m\u001b[1;33m)\u001b[0m\u001b[1;33m\u001b[0m\u001b[0m\n\u001b[0;32m      7\u001b[0m     \u001b[0mpageanterior\u001b[0m \u001b[1;33m=\u001b[0m \u001b[0mpage\u001b[0m\u001b[1;33m\u001b[0m\u001b[0m\n\u001b[1;32m----> 8\u001b[1;33m     \u001b[0mtime\u001b[0m\u001b[1;33m.\u001b[0m\u001b[0msleep\u001b[0m\u001b[1;33m(\u001b[0m\u001b[1;36m10\u001b[0m\u001b[1;33m)\u001b[0m\u001b[1;33m\u001b[0m\u001b[0m\n\u001b[0m",
      "\u001b[1;31mKeyboardInterrupt\u001b[0m: "
     ]
    }
   ],
   "source": [
    "pageanterior=''\n",
    "while True:  # Loop infinito para verificar se um dado site mudou\n",
    "    page = requests.get('http://emap.fgv.br')\n",
    "    print(page)\n",
    "    if page!=pageanterior:\n",
    "        print('mudou')\n",
    "    pageanterior = page\n",
    "    time.sleep(10)"
   ]
  },
  {
   "cell_type": "code",
   "execution_count": 86,
   "metadata": {},
   "outputs": [
    {
     "name": "stdout",
     "output_type": "stream",
     "text": [
      "2\n",
      "7\n",
      "2\n",
      "4\n",
      "4\n",
      "9\n",
      "4\n",
      "4\n",
      "2\n",
      "9\n"
     ]
    }
   ],
   "source": [
    "for x in range(10):\n",
    "    print(random.randrange(1,11)) # randrange - gera um número aleatório no intervalo especificado"
   ]
  },
  {
   "cell_type": "code",
   "execution_count": 106,
   "metadata": {},
   "outputs": [
    {
     "name": "stdout",
     "output_type": "stream",
     "text": [
      "0.6810278014705131\n",
      "0.44117613653759624\n"
     ]
    }
   ],
   "source": [
    "while True: # While é um loop condicional (continua até a condição ser falsa), enquanto o for é determinístico (percorre toda a sequência)\n",
    "    x = random.random()\n",
    "    print(x)\n",
    "    if 0.5 > x > 0.4:\n",
    "        break"
   ]
  },
  {
   "cell_type": "markdown",
   "metadata": {},
   "source": [
    "# Exercício Mega-Sena"
   ]
  },
  {
   "cell_type": "code",
   "execution_count": null,
   "metadata": {
    "collapsed": true
   },
   "outputs": [],
   "source": [
    "# 1- criar uma lista (ou conjunto) da aposta (pegar 6 números únicos entre 1 e 60 (rand e rand.range))\n",
    "#while para sortear 6 números únicos e parar quando você acertar os 6 números\n",
    "\n",
    "# testar se len(set(lita))==6"
   ]
  },
  {
   "cell_type": "code",
   "execution_count": 95,
   "metadata": {
    "collapsed": true
   },
   "outputs": [],
   "source": [
    "import random"
   ]
  },
  {
   "cell_type": "code",
   "execution_count": 103,
   "metadata": {},
   "outputs": [
    {
     "name": "stdout",
     "output_type": "stream",
     "text": [
      "[56, 42, 53, 15, 7, 39]\n"
     ]
    }
   ],
   "source": [
    "aposta=[] # criando a aposta\n",
    "while len(set(aposta))<6:\n",
    "    aposta.append(random.randint(1,61))\n",
    "print(aposta)\n",
    "    "
   ]
  },
  {
   "cell_type": "code",
   "execution_count": 105,
   "metadata": {},
   "outputs": [
    {
     "name": "stdout",
     "output_type": "stream",
     "text": [
      "[54, 37, 59, 1, 39, 46]\n"
     ]
    }
   ],
   "source": [
    "aposta= random.sample(range(1,60),6) # Criando aposta \n",
    "print(aposta)"
   ]
  },
  {
   "cell_type": "code",
   "execution_count": 107,
   "metadata": {},
   "outputs": [
    {
     "name": "stdout",
     "output_type": "stream",
     "text": [
      "[53, 51, 43, 41, 13, 52]\n"
     ]
    }
   ],
   "source": [
    "sorteados=random.sample(range(1,61),6)\n",
    "print(sorteados)"
   ]
  },
  {
   "cell_type": "code",
   "execution_count": 109,
   "metadata": {},
   "outputs": [
    {
     "name": "stdout",
     "output_type": "stream",
     "text": [
      "265.9331531524658\n",
      "11782589\n"
     ]
    }
   ],
   "source": [
    "t0=time.time()\n",
    "iteracao=1\n",
    "while True:\n",
    "    aposta=random.sample(range(1,61),6)\n",
    "    sorteados=random.sample(range(1,61),6)\n",
    "    if set(aposta) == set(sorteados):\n",
    "        break\n",
    "    iteracao+=1\n",
    "    \n",
    "print(time.time()-t0)\n",
    "print(iteracao)"
   ]
  },
  {
   "cell_type": "code",
   "execution_count": null,
   "metadata": {
    "collapsed": true
   },
   "outputs": [],
   "source": [
    "# Rodar 100 vezes para ver se o nº médio de iterações converge para a probabilidade de se ganhar uma vez"
   ]
  },
  {
   "cell_type": "code",
   "execution_count": null,
   "metadata": {
    "collapsed": true
   },
   "outputs": [],
   "source": [
    "# Dever de casa - Fazer um gerador de nºs primos (qual é o n-ésimo número primo?)"
   ]
  },
  {
   "cell_type": "code",
   "execution_count": null,
   "metadata": {
    "collapsed": true
   },
   "outputs": [],
   "source": []
  },
  {
   "cell_type": "code",
   "execution_count": null,
   "metadata": {
    "collapsed": true
   },
   "outputs": [],
   "source": []
  },
  {
   "cell_type": "markdown",
   "metadata": {},
   "source": [
    "* Simulando a mega-sena. "
   ]
  },
  {
   "cell_type": "code",
   "execution_count": 106,
   "metadata": {},
   "outputs": [
    {
     "name": "stdout",
     "output_type": "stream",
     "text": [
      "foram sorteados os números {1, 3, 6, 8, 12, 13}\n",
      "acertei os numeros {1, 3, 6, 8, 12, 13}\n",
      "foram sorteados os números {1, 2, 3, 5, 11, 15}\n",
      "acertei os numeros {1, 2, 3, 5, 11, 15}\n",
      "foram sorteados os números {1, 2, 4, 7, 13, 15}\n",
      "acertei os numeros {1, 2, 4, 7, 13, 15}\n",
      "0.15950441360473633\n"
     ]
    }
   ],
   "source": [
    "aposta = list(range(1,16))\n",
    "t0 = time.time()\n",
    "for i in range(2*52*100):\n",
    "    sorteados = set()\n",
    "    while len(sorteados) < 6:\n",
    "        numero = random.randrange(1,61) #random.randint(1,60)\n",
    "        #print(numero)\n",
    "        sorteados.add(numero)\n",
    "    acertos = sorteados.intersection(aposta)\n",
    "    if len(acertos) > 5:\n",
    "        print('foram sorteados os números {}'.format(sorteados))\n",
    "        print('acertei os numeros {}'.format(acertos))\n",
    "print(time.time() - t0)"
   ]
  },
  {
   "cell_type": "code",
   "execution_count": 36,
   "metadata": {},
   "outputs": [
    {
     "name": "stdout",
     "output_type": "stream",
     "text": [
      "0.10518264770507812\n"
     ]
    }
   ],
   "source": [
    "aposta = {23,43,1,39,38,24,50,56}\n",
    "t0 = time.time()\n",
    "for i in range(2*52*100):\n",
    "    sorteados = set()\n",
    "    bolinhas = list(range(1,61))\n",
    "    while len(sorteados) < 6:\n",
    "        numero = random.choice(bolinhas)\n",
    "        bolinhas.remove(numero)\n",
    "        sorteados.add(numero)\n",
    "    acertos = sorteados.intersection(aposta)\n",
    "    if len(acertos) > 5:\n",
    "        print('foram sorteados os números {}'.format(sorteados))\n",
    "        print('acertei os numeros {}'.format(acertos))\n",
    "print(time.time() - t0)"
   ]
  },
  {
   "cell_type": "code",
   "execution_count": 53,
   "metadata": {},
   "outputs": [
    {
     "name": "stdout",
     "output_type": "stream",
     "text": [
      "Entre com a aposta, separando com vírgula1,2,3,4,5,6\n"
     ]
    }
   ],
   "source": [
    "aposta = input('Entre com a aposta, separando com vírgula')\n",
    "verifica = aposta.replace(',','')\n",
    "if not verifica.isdigit():\n",
    "    print('errado')"
   ]
  },
  {
   "cell_type": "code",
   "execution_count": 39,
   "metadata": {
    "collapsed": true
   },
   "outputs": [],
   "source": [
    "aposta_num = []\n",
    "for string_numero in aposta.split(','):\n",
    "    aposta_num.append(int(string_numero))"
   ]
  },
  {
   "cell_type": "code",
   "execution_count": 40,
   "metadata": {},
   "outputs": [
    {
     "name": "stdout",
     "output_type": "stream",
     "text": [
      "[1, 2, 3]\n",
      "[1, 3]\n"
     ]
    }
   ],
   "source": [
    "lista = [1,2,3]\n",
    "print(lista)\n",
    "lista.remove(2)\n",
    "print(lista)"
   ]
  },
  {
   "cell_type": "markdown",
   "metadata": {},
   "source": [
    "* Gerando a sequência de fibonacci"
   ]
  },
  {
   "cell_type": "code",
   "execution_count": 41,
   "metadata": {},
   "outputs": [
    {
     "name": "stdout",
     "output_type": "stream",
     "text": [
      "[0, 1, 1, 2, 3, 5, 8, 13, 21, 34, 55, 89, 144, 233, 377, 610, 987, 1597, 2584, 4181, 6765, 10946, 17711, 28657, 46368, 75025, 121393, 196418, 317811, 514229, 832040, 1346269, 2178309, 3524578, 5702887, 9227465, 14930352, 24157817, 39088169, 63245986, 102334155, 165580141, 267914296, 433494437, 701408733, 1134903170, 1836311903, 2971215073, 4807526976, 7778742049, 12586269025, 20365011074, 32951280099, 53316291173, 86267571272, 139583862445, 225851433717, 365435296162, 591286729879, 956722026041, 1548008755920, 2504730781961, 4052739537881, 6557470319842, 10610209857723, 17167680177565, 27777890035288, 44945570212853, 72723460248141, 117669030460994, 190392490709135, 308061521170129, 498454011879264, 806515533049393, 1304969544928657, 2111485077978050, 3416454622906707, 5527939700884757, 8944394323791464, 14472334024676221, 23416728348467685, 37889062373143906, 61305790721611591, 99194853094755497, 160500643816367088, 259695496911122585, 420196140727489673, 679891637638612258, 1100087778366101931, 1779979416004714189, 2880067194370816120, 4660046610375530309, 7540113804746346429, 12200160415121876738, 19740274219868223167, 31940434634990099905, 51680708854858323072, 83621143489848422977, 135301852344706746049, 218922995834555169026, 354224848179261915075]\n"
     ]
    }
   ],
   "source": [
    "fibo = [0,1]\n",
    "for i in range(99):\n",
    "    fibo.append(fibo[-1]+fibo[-2])\n",
    "print(fibo)"
   ]
  },
  {
   "cell_type": "code",
   "execution_count": null,
   "metadata": {
    "collapsed": true
   },
   "outputs": [],
   "source": []
  }
 ],
 "metadata": {
  "kernelspec": {
   "display_name": "Python 3",
   "language": "python",
   "name": "python3"
  },
  "language_info": {
   "codemirror_mode": {
    "name": "ipython",
    "version": 3
   },
   "file_extension": ".py",
   "mimetype": "text/x-python",
   "name": "python",
   "nbconvert_exporter": "python",
   "pygments_lexer": "ipython3",
   "version": "3.6.3"
  }
 },
 "nbformat": 4,
 "nbformat_minor": 1
}
